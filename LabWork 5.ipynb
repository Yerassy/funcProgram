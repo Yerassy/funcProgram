{
 "cells": [
  {
   "cell_type": "markdown",
   "id": "ec1186fc",
   "metadata": {},
   "source": [
    "# Lab 5"
   ]
  },
  {
   "cell_type": "code",
   "execution_count": null,
   "id": "acb7d6a9",
   "metadata": {},
   "outputs": [],
   "source": [
    "numbers = []\n",
    "number = input(\"Give number(0 end): \")\n",
    "while !=\"0\":\n",
    "    s = int(number)\n",
    "    numbers.append(s)\n",
    "    number = input(\"butin san engiz(0 sony): \")\n",
    "print(numbers)\n",
    "sort = sorted(numbers)\n",
    "#sort = sorted(sandar,reverse = True)\n",
    "print(sort)"
   ]
  },
  {
   "cell_type": "code",
   "execution_count": 1,
   "id": "e8bae0cb",
   "metadata": {},
   "outputs": [
    {
     "name": "stdout",
     "output_type": "stream",
     "text": [
      "['Zhanibek', 'Yerassyl', '22', 'Almaty', 'SU']\n",
      "['Last_name: ', 'Name: ', 'Age: ', 'City: ', 'Univer: ']\n",
      "Last_name: Zhanibek \n",
      "Name: Yerassyl \n",
      "Age: 22 \n",
      "City: Almaty \n",
      "Univer: SU \n",
      "Phone: 87057280099\n"
     ]
    }
   ],
   "source": [
    "a = [\"Zhanibek\", \"Yerassyl\", \"22\", \"Almaty\", \"SU\"]\n",
    "b = [\"Last_name: \", \"Name: \", \"Age: \", \"City: \",  \"Univer: \"]\n",
    "print(a)\n",
    "print(b)\n",
    "a.append(\"87057280099\")\n",
    "b.append(\"Phone: \")\n",
    "print(b[0] + a[0],\"\\n\" + b[1]+ a[1],\"\\n\" + b[2]+a[2],\"\\n\" + b[3]+a[3],\"\\n\" +  b[4]+a[4], \"\\n\" +  b[5]+a[5])"
   ]
  },
  {
   "cell_type": "code",
   "execution_count": null,
   "id": "76adbadf",
   "metadata": {},
   "outputs": [],
   "source": [
    "a = [7, 11, 19, 1, 32, 7, 60, 1]\n",
    "c = a.count(1)\n",
    "print(c)\n",
    "if c==2:\n",
    "    print(a.index(1))\n",
    "a.insert(3,15)\n",
    "a.remove(4)\n",
    "print(a)\n",
    "a.clear()\n",
    "print(a)"
   ]
  }
 ],
 "metadata": {
  "kernelspec": {
   "display_name": "Python 3 (ipykernel)",
   "language": "python",
   "name": "python3"
  },
  "language_info": {
   "codemirror_mode": {
    "name": "ipython",
    "version": 3
   },
   "file_extension": ".py",
   "mimetype": "text/x-python",
   "name": "python",
   "nbconvert_exporter": "python",
   "pygments_lexer": "ipython3",
   "version": "3.9.13"
  }
 },
 "nbformat": 4,
 "nbformat_minor": 5
}
