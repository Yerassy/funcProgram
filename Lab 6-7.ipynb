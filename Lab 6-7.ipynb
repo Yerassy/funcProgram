{
 "cells": [
  {
   "cell_type": "code",
   "execution_count": 2,
   "id": "6c8f2c71",
   "metadata": {},
   "outputs": [
    {
     "name": "stdout",
     "output_type": "stream",
     "text": [
      "1\n"
     ]
    }
   ],
   "source": [
    "def binary_search(list,item):\n",
    "    low = 0\n",
    "    high = len(list) - 1\n",
    "    while low <= high:\n",
    "        mid = (low + high)\n",
    "        guess = list[mid]\n",
    "        if guess == item:\n",
    "            return mid\n",
    "        if guess > item:\n",
    "            high = mid - 1\n",
    "        else:\n",
    "            low = mid + 1\n",
    "    return None\n",
    "my_list = [1, 3, 5, 7, 8]\n",
    "print(binary_search(my_list,3))\n",
    "        \n",
    "            "
   ]
  },
  {
   "cell_type": "code",
   "execution_count": 7,
   "id": "4e5bb7fe",
   "metadata": {},
   "outputs": [
    {
     "name": "stdout",
     "output_type": "stream",
     "text": [
      "[['Yerassyl', 'Zhanibek']]\n"
     ]
    }
   ],
   "source": [
    "resume = []\n",
    "name = ['Yerassyl','Zhanibek']\n",
    "address = ['Almaty', 'Alatau']\n",
    "phone = ['8705432904']\n",
    "job_search = ['Data Analyst']\n",
    "salary = ['300 000']\n",
    "resume.append(name)\n",
    "print(resume)"
   ]
  },
  {
   "cell_type": "code",
   "execution_count": 19,
   "id": "8a335292",
   "metadata": {},
   "outputs": [
    {
     "data": {
      "text/plain": [
       "36"
      ]
     },
     "execution_count": 19,
     "metadata": {},
     "output_type": "execute_result"
    }
   ],
   "source": [
    "import random\n",
    "random.randint(1,49)"
   ]
  },
  {
   "cell_type": "code",
   "execution_count": 21,
   "id": "97b7253c",
   "metadata": {},
   "outputs": [
    {
     "name": "stdout",
     "output_type": "stream",
     "text": [
      "{0: 0, 1: 1, 2: 4, 3: 9, 4: 16, 5: 25}\n",
      "{0: 0, 1: 1, 2: 4, 3: 9, 4: 16, 5: 25}\n"
     ]
    }
   ],
   "source": [
    "d = {a: a ** 2 for a in range(6)}\n",
    "print(d)\n",
    "#del(d)\n",
    "print(d)"
   ]
  },
  {
   "cell_type": "markdown",
   "id": "6d2834eb",
   "metadata": {},
   "source": [
    "# Lab 6-7"
   ]
  },
  {
   "cell_type": "code",
   "execution_count": null,
   "id": "73dda66e",
   "metadata": {},
   "outputs": [],
   "source": [
    "set_a = {\"School\",\"College\",\"University\",\"Lyceum\"}\n",
    "for i in set_a:\n",
    "    print(i)\n",
    "set_a.remove(\"School\")\n",
    "#set_a.discard(\"KPL\")\n",
    "set_a.add(\"PostGraduate\")\n",
    "set_a.pop()\n",
    "print(\"\\n\")\n",
    "for i in set_a:\n",
    "    print(i)\n",
    "set_a.clear()\n",
    "print(\"\\n\")\n",
    "for i in set_a:\n",
    "    print(i)"
   ]
  },
  {
   "cell_type": "code",
   "execution_count": null,
   "id": "560087a6",
   "metadata": {},
   "outputs": [],
   "source": [
    "car = {\n",
    "  \"Company\": \"Mercedes\",\n",
    "  \"model\": \"CLS\",\n",
    "  \"year\": 2018\n",
    "}\n",
    "car[\"year\"] = 2020\n",
    "#del car[\"year\"]\n",
    "#car.pop(\"year\")\n",
    "car[\"litre\"] = 3\n",
    "#car.popitem()\n",
    "print(car)"
   ]
  },
  {
   "cell_type": "code",
   "execution_count": null,
   "id": "c24753ba",
   "metadata": {},
   "outputs": [],
   "source": [
    "Resume = [(\"Name: \",\"Yerassyl\"),(\"Last_name: \",\"Zhanibek\"),(\"Age: \",21)]\n",
    "for i in Resume:\n",
    "    print(i)\n",
    "print(len(Resume))\n",
    "print(\"\\n\")\n",
    "Resume.insert(4,(\"Number: \",\"87023458756\"))\n",
    "for i in Resume:\n",
    "    print(i)\n",
    "Resume.sort()\n",
    "del(Resume[1])\n",
    "print(\"\\n\")\n",
    "for i in Resume:\n",
    "    print(i)"
   ]
  },
  {
   "cell_type": "code",
   "execution_count": null,
   "id": "2d3dcadd",
   "metadata": {},
   "outputs": [],
   "source": [
    "col = car.setdefault(\"color\", \"Black\")\n",
    "print(col)\n",
    "print(car.keys())\n",
    "print(\"\\n\")"
   ]
  },
  {
   "cell_type": "code",
   "execution_count": 1,
   "id": "cce40348",
   "metadata": {},
   "outputs": [
    {
     "name": "stdout",
     "output_type": "stream",
     "text": [
      "{'Aigerim': 21, 'Yerassyl': 21, 'Aldiyar': 21}\n",
      "\n",
      "\n"
     ]
    }
   ],
   "source": [
    "name = ('Aigerim', 'Yerassyl', 'Aldiyar')\n",
    "age = 21\n",
    "stud = dict.fromkeys(name, age)\n",
    "print(stud)\n",
    "print(\"\\n\")"
   ]
  },
  {
   "cell_type": "code",
   "execution_count": null,
   "id": "cbe2db2d",
   "metadata": {},
   "outputs": [],
   "source": [
    "d = {a: a ** 2 for a in range(6)}\n",
    "print(d)\n",
    "del(d)\n",
    "print(d)"
   ]
  },
  {
   "cell_type": "code",
   "execution_count": null,
   "id": "9b4cbe19",
   "metadata": {},
   "outputs": [],
   "source": [
    "diction = {1: 2, 2: 4, 3: 9}\n",
    "diction[5]=11\n",
    "print(diction)\n",
    "print(diction[1])\n",
    "diction.clear()\n",
    "print(diction)\n",
    "print(\"\\n\")"
   ]
  },
  {
   "cell_type": "code",
   "execution_count": null,
   "id": "c271f6f0",
   "metadata": {},
   "outputs": [],
   "source": []
  }
 ],
 "metadata": {
  "kernelspec": {
   "display_name": "Python 3 (ipykernel)",
   "language": "python",
   "name": "python3"
  },
  "language_info": {
   "codemirror_mode": {
    "name": "ipython",
    "version": 3
   },
   "file_extension": ".py",
   "mimetype": "text/x-python",
   "name": "python",
   "nbconvert_exporter": "python",
   "pygments_lexer": "ipython3",
   "version": "3.9.13"
  }
 },
 "nbformat": 4,
 "nbformat_minor": 5
}
